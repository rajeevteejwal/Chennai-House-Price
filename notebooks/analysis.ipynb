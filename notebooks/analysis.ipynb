{
 "cells": [
  {
   "cell_type": "code",
   "execution_count": 173,
   "metadata": {},
   "outputs": [],
   "source": [
    "import pandas as pd\n",
    "import numpy as np\n",
    "import matplotlib.pyplot as plt\n",
    "import seaborn as sns\n",
    "from scipy import stats\n",
    "from sklearn.linear_model import LinearRegression\n",
    "from sklearn.tree import DecisionTreeRegressor\n",
    "from sklearn.ensemble import RandomForestRegressor\n",
    "from sklearn.model_selection import train_test_split\n",
    "from sklearn.metrics import r2_score,mean_squared_error,mean_absolute_error\n",
    "import math"
   ]
  },
  {
   "cell_type": "code",
   "execution_count": 2,
   "metadata": {},
   "outputs": [],
   "source": [
    "df = pd.read_csv('../datasets/clean_data.csv')"
   ]
  },
  {
   "cell_type": "code",
   "execution_count": 12,
   "metadata": {},
   "outputs": [
    {
     "data": {
      "text/plain": [
       "(2620, 8)"
      ]
     },
     "execution_count": 12,
     "metadata": {},
     "output_type": "execute_result"
    }
   ],
   "source": [
    "# No of records in dataset\n",
    "df.shape"
   ]
  },
  {
   "cell_type": "code",
   "execution_count": 15,
   "metadata": {},
   "outputs": [
    {
     "data": {
      "text/plain": [
       "price          0\n",
       "area           0\n",
       "status         0\n",
       "bhk            0\n",
       "bathroom    1217\n",
       "age          891\n",
       "location       0\n",
       "builder        0\n",
       "dtype: int64"
      ]
     },
     "execution_count": 15,
     "metadata": {},
     "output_type": "execute_result"
    }
   ],
   "source": [
    "# Null records\n",
    "df.isnull().sum()"
   ]
  },
  {
   "cell_type": "code",
   "execution_count": 4,
   "metadata": {},
   "outputs": [
    {
     "name": "stdout",
     "output_type": "stream",
     "text": [
      "<class 'pandas.core.frame.DataFrame'>\n",
      "RangeIndex: 2620 entries, 0 to 2619\n",
      "Data columns (total 8 columns):\n",
      " #   Column    Non-Null Count  Dtype  \n",
      "---  ------    --------------  -----  \n",
      " 0   price     2620 non-null   float64\n",
      " 1   area      2620 non-null   int64  \n",
      " 2   status    2620 non-null   object \n",
      " 3   bhk       2620 non-null   int64  \n",
      " 4   bathroom  1403 non-null   float64\n",
      " 5   age       1729 non-null   float64\n",
      " 6   location  2620 non-null   object \n",
      " 7   builder   2620 non-null   object \n",
      "dtypes: float64(3), int64(2), object(3)\n",
      "memory usage: 163.9+ KB\n"
     ]
    }
   ],
   "source": [
    "df.info()"
   ]
  },
  {
   "cell_type": "code",
   "execution_count": 11,
   "metadata": {},
   "outputs": [
    {
     "data": {
      "text/html": [
       "<div>\n",
       "<style scoped>\n",
       "    .dataframe tbody tr th:only-of-type {\n",
       "        vertical-align: middle;\n",
       "    }\n",
       "\n",
       "    .dataframe tbody tr th {\n",
       "        vertical-align: top;\n",
       "    }\n",
       "\n",
       "    .dataframe thead th {\n",
       "        text-align: right;\n",
       "    }\n",
       "</style>\n",
       "<table border=\"1\" class=\"dataframe\">\n",
       "  <thead>\n",
       "    <tr style=\"text-align: right;\">\n",
       "      <th></th>\n",
       "      <th>count</th>\n",
       "      <th>mean</th>\n",
       "      <th>std</th>\n",
       "      <th>min</th>\n",
       "      <th>25%</th>\n",
       "      <th>50%</th>\n",
       "      <th>75%</th>\n",
       "      <th>max</th>\n",
       "    </tr>\n",
       "  </thead>\n",
       "  <tbody>\n",
       "    <tr>\n",
       "      <th>price</th>\n",
       "      <td>2620.0</td>\n",
       "      <td>93.834683</td>\n",
       "      <td>113.609349</td>\n",
       "      <td>12.83</td>\n",
       "      <td>42.0</td>\n",
       "      <td>61.735</td>\n",
       "      <td>90.00</td>\n",
       "      <td>1422.0</td>\n",
       "    </tr>\n",
       "    <tr>\n",
       "      <th>area</th>\n",
       "      <td>2620.0</td>\n",
       "      <td>1282.925191</td>\n",
       "      <td>692.566319</td>\n",
       "      <td>300.00</td>\n",
       "      <td>877.0</td>\n",
       "      <td>1091.500</td>\n",
       "      <td>1471.25</td>\n",
       "      <td>6700.0</td>\n",
       "    </tr>\n",
       "    <tr>\n",
       "      <th>bhk</th>\n",
       "      <td>2620.0</td>\n",
       "      <td>2.443893</td>\n",
       "      <td>0.811984</td>\n",
       "      <td>1.00</td>\n",
       "      <td>2.0</td>\n",
       "      <td>2.000</td>\n",
       "      <td>3.00</td>\n",
       "      <td>8.0</td>\n",
       "    </tr>\n",
       "    <tr>\n",
       "      <th>bathroom</th>\n",
       "      <td>1403.0</td>\n",
       "      <td>2.359230</td>\n",
       "      <td>0.844951</td>\n",
       "      <td>1.00</td>\n",
       "      <td>2.0</td>\n",
       "      <td>2.000</td>\n",
       "      <td>3.00</td>\n",
       "      <td>7.0</td>\n",
       "    </tr>\n",
       "    <tr>\n",
       "      <th>age</th>\n",
       "      <td>1729.0</td>\n",
       "      <td>1.355119</td>\n",
       "      <td>2.102682</td>\n",
       "      <td>0.00</td>\n",
       "      <td>0.0</td>\n",
       "      <td>0.000</td>\n",
       "      <td>3.00</td>\n",
       "      <td>32.0</td>\n",
       "    </tr>\n",
       "  </tbody>\n",
       "</table>\n",
       "</div>"
      ],
      "text/plain": [
       "           count         mean         std     min    25%       50%      75%  \\\n",
       "price     2620.0    93.834683  113.609349   12.83   42.0    61.735    90.00   \n",
       "area      2620.0  1282.925191  692.566319  300.00  877.0  1091.500  1471.25   \n",
       "bhk       2620.0     2.443893    0.811984    1.00    2.0     2.000     3.00   \n",
       "bathroom  1403.0     2.359230    0.844951    1.00    2.0     2.000     3.00   \n",
       "age       1729.0     1.355119    2.102682    0.00    0.0     0.000     3.00   \n",
       "\n",
       "             max  \n",
       "price     1422.0  \n",
       "area      6700.0  \n",
       "bhk          8.0  \n",
       "bathroom     7.0  \n",
       "age         32.0  "
      ]
     },
     "execution_count": 11,
     "metadata": {},
     "output_type": "execute_result"
    }
   ],
   "source": [
    "df.describe().T"
   ]
  },
  {
   "cell_type": "code",
   "execution_count": 48,
   "metadata": {},
   "outputs": [
    {
     "data": {
      "text/html": [
       "<div>\n",
       "<style scoped>\n",
       "    .dataframe tbody tr th:only-of-type {\n",
       "        vertical-align: middle;\n",
       "    }\n",
       "\n",
       "    .dataframe tbody tr th {\n",
       "        vertical-align: top;\n",
       "    }\n",
       "\n",
       "    .dataframe thead th {\n",
       "        text-align: right;\n",
       "    }\n",
       "</style>\n",
       "<table border=\"1\" class=\"dataframe\">\n",
       "  <thead>\n",
       "    <tr style=\"text-align: right;\">\n",
       "      <th></th>\n",
       "      <th>price</th>\n",
       "      <th>area</th>\n",
       "      <th>status</th>\n",
       "      <th>bhk</th>\n",
       "      <th>bathroom</th>\n",
       "      <th>age</th>\n",
       "      <th>location</th>\n",
       "      <th>builder</th>\n",
       "    </tr>\n",
       "  </thead>\n",
       "  <tbody>\n",
       "    <tr>\n",
       "      <th>1</th>\n",
       "      <td>93.54</td>\n",
       "      <td>1346</td>\n",
       "      <td>Under Construction</td>\n",
       "      <td>3</td>\n",
       "      <td>2.0</td>\n",
       "      <td>NaN</td>\n",
       "      <td>Selaiyur</td>\n",
       "      <td>DAC Promoters</td>\n",
       "    </tr>\n",
       "    <tr>\n",
       "      <th>18</th>\n",
       "      <td>100.00</td>\n",
       "      <td>1833</td>\n",
       "      <td>Ready to move</td>\n",
       "      <td>3</td>\n",
       "      <td>NaN</td>\n",
       "      <td>NaN</td>\n",
       "      <td>Sholinganallur</td>\n",
       "      <td>Appaswamy Real Estate</td>\n",
       "    </tr>\n",
       "    <tr>\n",
       "      <th>50</th>\n",
       "      <td>65.69</td>\n",
       "      <td>1381</td>\n",
       "      <td>Ready to move</td>\n",
       "      <td>3</td>\n",
       "      <td>NaN</td>\n",
       "      <td>NaN</td>\n",
       "      <td>Tiruvottiyur</td>\n",
       "      <td>Hansa Estates</td>\n",
       "    </tr>\n",
       "    <tr>\n",
       "      <th>62</th>\n",
       "      <td>84.79</td>\n",
       "      <td>1220</td>\n",
       "      <td>Under Construction</td>\n",
       "      <td>3</td>\n",
       "      <td>3.0</td>\n",
       "      <td>NaN</td>\n",
       "      <td>Selaiyur</td>\n",
       "      <td>DAC Promoters</td>\n",
       "    </tr>\n",
       "    <tr>\n",
       "      <th>78</th>\n",
       "      <td>108.00</td>\n",
       "      <td>1972</td>\n",
       "      <td>Ready to move</td>\n",
       "      <td>3</td>\n",
       "      <td>NaN</td>\n",
       "      <td>NaN</td>\n",
       "      <td>Sholinganallur</td>\n",
       "      <td>Appaswamy Real Estate</td>\n",
       "    </tr>\n",
       "    <tr>\n",
       "      <th>...</th>\n",
       "      <td>...</td>\n",
       "      <td>...</td>\n",
       "      <td>...</td>\n",
       "      <td>...</td>\n",
       "      <td>...</td>\n",
       "      <td>...</td>\n",
       "      <td>...</td>\n",
       "      <td>...</td>\n",
       "    </tr>\n",
       "    <tr>\n",
       "      <th>2596</th>\n",
       "      <td>88.00</td>\n",
       "      <td>1062</td>\n",
       "      <td>Under Construction</td>\n",
       "      <td>2</td>\n",
       "      <td>2.0</td>\n",
       "      <td>NaN</td>\n",
       "      <td>Mogappair</td>\n",
       "      <td>GJ ESTATES</td>\n",
       "    </tr>\n",
       "    <tr>\n",
       "      <th>2597</th>\n",
       "      <td>73.71</td>\n",
       "      <td>1031</td>\n",
       "      <td>Under Construction</td>\n",
       "      <td>2</td>\n",
       "      <td>2.0</td>\n",
       "      <td>NaN</td>\n",
       "      <td>Selaiyur</td>\n",
       "      <td>GJ ESTATES</td>\n",
       "    </tr>\n",
       "    <tr>\n",
       "      <th>2598</th>\n",
       "      <td>44.00</td>\n",
       "      <td>898</td>\n",
       "      <td>Under Construction</td>\n",
       "      <td>2</td>\n",
       "      <td>2.0</td>\n",
       "      <td>NaN</td>\n",
       "      <td>Iyappanthangal</td>\n",
       "      <td>GJ ESTATES</td>\n",
       "    </tr>\n",
       "    <tr>\n",
       "      <th>2607</th>\n",
       "      <td>340.00</td>\n",
       "      <td>2030</td>\n",
       "      <td>Under Construction</td>\n",
       "      <td>4</td>\n",
       "      <td>3.0</td>\n",
       "      <td>NaN</td>\n",
       "      <td>T Nagar</td>\n",
       "      <td>HomeFirst</td>\n",
       "    </tr>\n",
       "    <tr>\n",
       "      <th>2608</th>\n",
       "      <td>219.00</td>\n",
       "      <td>1310</td>\n",
       "      <td>Under Construction</td>\n",
       "      <td>3</td>\n",
       "      <td>3.0</td>\n",
       "      <td>NaN</td>\n",
       "      <td>T Nagar</td>\n",
       "      <td>HomeFirst</td>\n",
       "    </tr>\n",
       "  </tbody>\n",
       "</table>\n",
       "<p>891 rows × 8 columns</p>\n",
       "</div>"
      ],
      "text/plain": [
       "       price  area              status  bhk  bathroom  age        location  \\\n",
       "1      93.54  1346  Under Construction    3       2.0  NaN        Selaiyur   \n",
       "18    100.00  1833       Ready to move    3       NaN  NaN  Sholinganallur   \n",
       "50     65.69  1381       Ready to move    3       NaN  NaN    Tiruvottiyur   \n",
       "62     84.79  1220  Under Construction    3       3.0  NaN        Selaiyur   \n",
       "78    108.00  1972       Ready to move    3       NaN  NaN  Sholinganallur   \n",
       "...      ...   ...                 ...  ...       ...  ...             ...   \n",
       "2596   88.00  1062  Under Construction    2       2.0  NaN       Mogappair   \n",
       "2597   73.71  1031  Under Construction    2       2.0  NaN        Selaiyur   \n",
       "2598   44.00   898  Under Construction    2       2.0  NaN  Iyappanthangal   \n",
       "2607  340.00  2030  Under Construction    4       3.0  NaN         T Nagar   \n",
       "2608  219.00  1310  Under Construction    3       3.0  NaN         T Nagar   \n",
       "\n",
       "                    builder  \n",
       "1             DAC Promoters  \n",
       "18    Appaswamy Real Estate  \n",
       "50            Hansa Estates  \n",
       "62            DAC Promoters  \n",
       "78    Appaswamy Real Estate  \n",
       "...                     ...  \n",
       "2596             GJ ESTATES  \n",
       "2597             GJ ESTATES  \n",
       "2598             GJ ESTATES  \n",
       "2607              HomeFirst  \n",
       "2608              HomeFirst  \n",
       "\n",
       "[891 rows x 8 columns]"
      ]
     },
     "execution_count": 48,
     "metadata": {},
     "output_type": "execute_result"
    }
   ],
   "source": [
    "#df[df.status=='Under Construction']\n",
    "df[df.age.isnull()]"
   ]
  },
  {
   "cell_type": "code",
   "execution_count": 49,
   "metadata": {},
   "outputs": [],
   "source": [
    "df.age.fillna(0,inplace=True)"
   ]
  },
  {
   "cell_type": "code",
   "execution_count": 51,
   "metadata": {},
   "outputs": [
    {
     "data": {
      "text/plain": [
       "Series([], Name: age, dtype: float64)"
      ]
     },
     "execution_count": 51,
     "metadata": {},
     "output_type": "execute_result"
    }
   ],
   "source": [
    "df.age[df.age.isnull()]"
   ]
  },
  {
   "cell_type": "code",
   "execution_count": 54,
   "metadata": {},
   "outputs": [
    {
     "name": "stdout",
     "output_type": "stream",
     "text": [
      "Bathrooms : [nan  2.  1.  3.  4.  5.  6.  7.]\n",
      "BHK : [2 3 4 1 5 6 8]\n"
     ]
    }
   ],
   "source": [
    "#bathrooms\n",
    "print(f\"Bathrooms : {df.bathroom.unique()}\")\n",
    "print(f\"BHK : {df.bhk.unique()}\")"
   ]
  },
  {
   "cell_type": "code",
   "execution_count": 62,
   "metadata": {},
   "outputs": [
    {
     "data": {
      "text/html": [
       "<div>\n",
       "<style scoped>\n",
       "    .dataframe tbody tr th:only-of-type {\n",
       "        vertical-align: middle;\n",
       "    }\n",
       "\n",
       "    .dataframe tbody tr th {\n",
       "        vertical-align: top;\n",
       "    }\n",
       "\n",
       "    .dataframe thead th {\n",
       "        text-align: right;\n",
       "    }\n",
       "</style>\n",
       "<table border=\"1\" class=\"dataframe\">\n",
       "  <thead>\n",
       "    <tr style=\"text-align: right;\">\n",
       "      <th></th>\n",
       "      <th>price</th>\n",
       "      <th>area</th>\n",
       "      <th>status</th>\n",
       "      <th>bhk</th>\n",
       "      <th>bathroom</th>\n",
       "      <th>age</th>\n",
       "      <th>location</th>\n",
       "      <th>builder</th>\n",
       "    </tr>\n",
       "  </thead>\n",
       "  <tbody>\n",
       "    <tr>\n",
       "      <th>0</th>\n",
       "      <td>37.49</td>\n",
       "      <td>872</td>\n",
       "      <td>Ready to move</td>\n",
       "      <td>2</td>\n",
       "      <td>NaN</td>\n",
       "      <td>1.0</td>\n",
       "      <td>Sembakkam</td>\n",
       "      <td>MP Developers</td>\n",
       "    </tr>\n",
       "    <tr>\n",
       "      <th>3</th>\n",
       "      <td>49.00</td>\n",
       "      <td>1028</td>\n",
       "      <td>Ready to move</td>\n",
       "      <td>2</td>\n",
       "      <td>2.0</td>\n",
       "      <td>3.0</td>\n",
       "      <td>Ambattur</td>\n",
       "      <td>Dugar Housing Builders</td>\n",
       "    </tr>\n",
       "    <tr>\n",
       "      <th>4</th>\n",
       "      <td>42.28</td>\n",
       "      <td>588</td>\n",
       "      <td>Under Construction</td>\n",
       "      <td>2</td>\n",
       "      <td>1.0</td>\n",
       "      <td>0.0</td>\n",
       "      <td>Pallavaram</td>\n",
       "      <td>Radiance Realty Developers India Ltd</td>\n",
       "    </tr>\n",
       "    <tr>\n",
       "      <th>9</th>\n",
       "      <td>24.56</td>\n",
       "      <td>622</td>\n",
       "      <td>Under Construction</td>\n",
       "      <td>2</td>\n",
       "      <td>NaN</td>\n",
       "      <td>0.0</td>\n",
       "      <td>Perungalathur</td>\n",
       "      <td>Isha Homes</td>\n",
       "    </tr>\n",
       "    <tr>\n",
       "      <th>13</th>\n",
       "      <td>51.46</td>\n",
       "      <td>919</td>\n",
       "      <td>Under Construction</td>\n",
       "      <td>2</td>\n",
       "      <td>NaN</td>\n",
       "      <td>0.0</td>\n",
       "      <td>Pammal</td>\n",
       "      <td>Asset Tree Homes</td>\n",
       "    </tr>\n",
       "    <tr>\n",
       "      <th>...</th>\n",
       "      <td>...</td>\n",
       "      <td>...</td>\n",
       "      <td>...</td>\n",
       "      <td>...</td>\n",
       "      <td>...</td>\n",
       "      <td>...</td>\n",
       "      <td>...</td>\n",
       "      <td>...</td>\n",
       "    </tr>\n",
       "    <tr>\n",
       "      <th>2615</th>\n",
       "      <td>27.50</td>\n",
       "      <td>750</td>\n",
       "      <td>Ready to move</td>\n",
       "      <td>2</td>\n",
       "      <td>2.0</td>\n",
       "      <td>3.0</td>\n",
       "      <td>Veppampattu</td>\n",
       "      <td>Velan Housing Properties</td>\n",
       "    </tr>\n",
       "    <tr>\n",
       "      <th>2616</th>\n",
       "      <td>27.50</td>\n",
       "      <td>750</td>\n",
       "      <td>Ready to move</td>\n",
       "      <td>2</td>\n",
       "      <td>2.0</td>\n",
       "      <td>3.0</td>\n",
       "      <td>Veppampattu</td>\n",
       "      <td>Velan Housing Properties</td>\n",
       "    </tr>\n",
       "    <tr>\n",
       "      <th>2617</th>\n",
       "      <td>30.00</td>\n",
       "      <td>800</td>\n",
       "      <td>Ready to move</td>\n",
       "      <td>2</td>\n",
       "      <td>2.0</td>\n",
       "      <td>3.0</td>\n",
       "      <td>Veppampattu</td>\n",
       "      <td>Velan Housing Properties</td>\n",
       "    </tr>\n",
       "    <tr>\n",
       "      <th>2618</th>\n",
       "      <td>31.50</td>\n",
       "      <td>850</td>\n",
       "      <td>Ready to move</td>\n",
       "      <td>2</td>\n",
       "      <td>2.0</td>\n",
       "      <td>3.0</td>\n",
       "      <td>Veppampattu</td>\n",
       "      <td>Velan Housing Properties</td>\n",
       "    </tr>\n",
       "    <tr>\n",
       "      <th>2619</th>\n",
       "      <td>34.00</td>\n",
       "      <td>900</td>\n",
       "      <td>Ready to move</td>\n",
       "      <td>2</td>\n",
       "      <td>2.0</td>\n",
       "      <td>3.0</td>\n",
       "      <td>Veppampattu</td>\n",
       "      <td>Velan Housing Properties</td>\n",
       "    </tr>\n",
       "  </tbody>\n",
       "</table>\n",
       "<p>1367 rows × 8 columns</p>\n",
       "</div>"
      ],
      "text/plain": [
       "      price  area              status  bhk  bathroom  age       location  \\\n",
       "0     37.49   872       Ready to move    2       NaN  1.0      Sembakkam   \n",
       "3     49.00  1028       Ready to move    2       2.0  3.0       Ambattur   \n",
       "4     42.28   588  Under Construction    2       1.0  0.0     Pallavaram   \n",
       "9     24.56   622  Under Construction    2       NaN  0.0  Perungalathur   \n",
       "13    51.46   919  Under Construction    2       NaN  0.0         Pammal   \n",
       "...     ...   ...                 ...  ...       ...  ...            ...   \n",
       "2615  27.50   750       Ready to move    2       2.0  3.0    Veppampattu   \n",
       "2616  27.50   750       Ready to move    2       2.0  3.0    Veppampattu   \n",
       "2617  30.00   800       Ready to move    2       2.0  3.0    Veppampattu   \n",
       "2618  31.50   850       Ready to move    2       2.0  3.0    Veppampattu   \n",
       "2619  34.00   900       Ready to move    2       2.0  3.0    Veppampattu   \n",
       "\n",
       "                                   builder  \n",
       "0                            MP Developers  \n",
       "3                   Dugar Housing Builders  \n",
       "4     Radiance Realty Developers India Ltd  \n",
       "9                               Isha Homes  \n",
       "13                        Asset Tree Homes  \n",
       "...                                    ...  \n",
       "2615              Velan Housing Properties  \n",
       "2616              Velan Housing Properties  \n",
       "2617              Velan Housing Properties  \n",
       "2618              Velan Housing Properties  \n",
       "2619              Velan Housing Properties  \n",
       "\n",
       "[1367 rows x 8 columns]"
      ]
     },
     "execution_count": 62,
     "metadata": {},
     "output_type": "execute_result"
    }
   ],
   "source": [
    "#df[(df.bathroom ==2)]\n",
    "df[(df.bhk ==2)]"
   ]
  },
  {
   "cell_type": "code",
   "execution_count": 63,
   "metadata": {},
   "outputs": [],
   "source": [
    "# fill NaN with -1 for bathrooms\n",
    "df.bathroom.fillna(-1,inplace=True)"
   ]
  },
  {
   "cell_type": "code",
   "execution_count": 64,
   "metadata": {},
   "outputs": [],
   "source": [
    "def find_bathroom(x,y):\n",
    "    if y == -1:\n",
    "        if x > 4:\n",
    "            return x+1\n",
    "        else:\n",
    "            return x\n",
    "    else:\n",
    "        return y"
   ]
  },
  {
   "cell_type": "code",
   "execution_count": 68,
   "metadata": {},
   "outputs": [],
   "source": [
    "df['bathroom'] = df.apply(lambda x: find_bathroom(x['bhk'],x['bathroom']),axis=1)"
   ]
  },
  {
   "cell_type": "code",
   "execution_count": 70,
   "metadata": {},
   "outputs": [
    {
     "data": {
      "text/plain": [
       "price       0\n",
       "area        0\n",
       "status      0\n",
       "bhk         0\n",
       "bathroom    0\n",
       "age         0\n",
       "location    0\n",
       "builder     0\n",
       "dtype: int64"
      ]
     },
     "execution_count": 70,
     "metadata": {},
     "output_type": "execute_result"
    }
   ],
   "source": [
    "df.isnull().sum()"
   ]
  },
  {
   "cell_type": "markdown",
   "metadata": {},
   "source": [
    "## Let's start with Univariate analysis"
   ]
  },
  {
   "cell_type": "code",
   "execution_count": 21,
   "metadata": {},
   "outputs": [],
   "source": [
    "# for numeric coluns\n",
    "#[feat for feat in df.columns if df[feat].dtypes != 'O']\n",
    "numeric_cols = [feat for feat in df.select_dtypes(include=np.number)]"
   ]
  },
  {
   "cell_type": "code",
   "execution_count": 95,
   "metadata": {},
   "outputs": [
    {
     "data": {
      "image/png": "[encoded data removed]",
      "text/plain": [
       "<Figure size 1296x1440 with 6 Axes>"
      ]
     },
     "metadata": {
      "needs_background": "light"
     },
     "output_type": "display_data"
    }
   ],
   "source": [
    "i,j=0,0\n",
    "PLOTS_PER_ROW =2\n",
    "fig, ax = plt.subplots(math.ceil(len(numeric_cols)/PLOTS_PER_ROW),PLOTS_PER_ROW, figsize=(18,20))\n",
    "for feat in numeric_cols:\n",
    "    ax[i][j].hist(df[feat],bins=30)\n",
    "    ax[i][j].set_xlabel(feat)\n",
    "    ax[i][j].set_ylabel(\"Counts\")\n",
    "    j+=1\n",
    "    if j%PLOTS_PER_ROW ==0:\n",
    "        i+=1\n",
    "        j=0\n",
    "plt.show()\n"
   ]
  },
  {
   "cell_type": "code",
   "execution_count": 98,
   "metadata": {},
   "outputs": [
    {
     "data": {
      "image/png": "[encoded data removed]",
      "text/plain": [
       "<Figure size 1296x1440 with 6 Axes>"
      ]
     },
     "metadata": {
      "needs_background": "light"
     },
     "output_type": "display_data"
    }
   ],
   "source": [
    "# QQ plot\n",
    "i,j=0,0\n",
    "PLOTS_PER_ROW = 2\n",
    "fig, ax = plt.subplots(math.ceil(len(numeric_cols)/PLOTS_PER_ROW),PLOTS_PER_ROW,figsize=(18,20))\n",
    "for feat in numeric_cols:\n",
    "    stats.probplot(df[feat],plot = ax[i][j] )\n",
    "    ax[i][j].set_ylabel(feat)\n",
    "    j += 1\n",
    "    if j%PLOTS_PER_ROW == 0:\n",
    "        j=0\n",
    "        i+=1\n",
    "plt.show()"
   ]
  },
  {
   "cell_type": "code",
   "execution_count": 44,
   "metadata": {},
   "outputs": [
    {
     "data": {
      "text/plain": [
       "Index(['price', 'area', 'status', 'bhk', 'bathroom', 'age', 'location',\n",
       "       'builder'],\n",
       "      dtype='object')"
      ]
     },
     "execution_count": 44,
     "metadata": {},
     "output_type": "execute_result"
    }
   ],
   "source": [
    "df.columns"
   ]
  },
  {
   "cell_type": "code",
   "execution_count": 106,
   "metadata": {},
   "outputs": [
    {
     "data": {
      "image/png": "[encoded data removed]",
      "text/plain": [
       "<Figure size 1296x432 with 2 Axes>"
      ]
     },
     "metadata": {
      "needs_background": "light"
     },
     "output_type": "display_data"
    }
   ],
   "source": [
    "# area/bhk\n",
    "area_per_bhk = df['area']/df['bhk']\n",
    "price_per_sqft = df['price']/df['area']\n",
    "\n",
    "fig,ax = plt.subplots(1,2, figsize=(18,6))\n",
    "ax[0].hist(area_per_bhk,bins=30)\n",
    "ax[0].set_xlabel(\"area per bhk\")\n",
    "ax[1].hist(price_per_sqft,bins=30)\n",
    "ax[1].set_xlabel(\"price per sqft\")\n",
    "plt.show()"
   ]
  },
  {
   "cell_type": "code",
   "execution_count": 107,
   "metadata": {},
   "outputs": [],
   "source": [
    "df['area_per_bhk'] = df['area']/df['bhk']\n",
    "df['price_per_sqft'] = df['price']/df['area']"
   ]
  },
  {
   "cell_type": "code",
   "execution_count": 109,
   "metadata": {},
   "outputs": [],
   "source": [
    "df['price_per_sqft'] = df['price_per_sqft']*100000"
   ]
  },
  {
   "cell_type": "code",
   "execution_count": 112,
   "metadata": {},
   "outputs": [
    {
     "data": {
      "text/html": [
       "<div>\n",
       "<style scoped>\n",
       "    .dataframe tbody tr th:only-of-type {\n",
       "        vertical-align: middle;\n",
       "    }\n",
       "\n",
       "    .dataframe tbody tr th {\n",
       "        vertical-align: top;\n",
       "    }\n",
       "\n",
       "    .dataframe thead th {\n",
       "        text-align: right;\n",
       "    }\n",
       "</style>\n",
       "<table border=\"1\" class=\"dataframe\">\n",
       "  <thead>\n",
       "    <tr style=\"text-align: right;\">\n",
       "      <th></th>\n",
       "      <th>count</th>\n",
       "      <th>mean</th>\n",
       "      <th>std</th>\n",
       "      <th>min</th>\n",
       "      <th>25%</th>\n",
       "      <th>50%</th>\n",
       "      <th>75%</th>\n",
       "      <th>max</th>\n",
       "    </tr>\n",
       "  </thead>\n",
       "  <tbody>\n",
       "    <tr>\n",
       "      <th>price</th>\n",
       "      <td>2620.0</td>\n",
       "      <td>93.834683</td>\n",
       "      <td>113.609349</td>\n",
       "      <td>12.830000</td>\n",
       "      <td>42.000</td>\n",
       "      <td>61.735000</td>\n",
       "      <td>90.000000</td>\n",
       "      <td>1422.000000</td>\n",
       "    </tr>\n",
       "    <tr>\n",
       "      <th>area</th>\n",
       "      <td>2620.0</td>\n",
       "      <td>1282.925191</td>\n",
       "      <td>692.566319</td>\n",
       "      <td>300.000000</td>\n",
       "      <td>877.000</td>\n",
       "      <td>1091.500000</td>\n",
       "      <td>1471.250000</td>\n",
       "      <td>6700.000000</td>\n",
       "    </tr>\n",
       "    <tr>\n",
       "      <th>bhk</th>\n",
       "      <td>2620.0</td>\n",
       "      <td>2.443893</td>\n",
       "      <td>0.811984</td>\n",
       "      <td>1.000000</td>\n",
       "      <td>2.000</td>\n",
       "      <td>2.000000</td>\n",
       "      <td>3.000000</td>\n",
       "      <td>8.000000</td>\n",
       "    </tr>\n",
       "    <tr>\n",
       "      <th>bathroom</th>\n",
       "      <td>2620.0</td>\n",
       "      <td>2.419466</td>\n",
       "      <td>0.819299</td>\n",
       "      <td>1.000000</td>\n",
       "      <td>2.000</td>\n",
       "      <td>2.000000</td>\n",
       "      <td>3.000000</td>\n",
       "      <td>7.000000</td>\n",
       "    </tr>\n",
       "    <tr>\n",
       "      <th>age</th>\n",
       "      <td>2620.0</td>\n",
       "      <td>0.894275</td>\n",
       "      <td>1.824666</td>\n",
       "      <td>0.000000</td>\n",
       "      <td>0.000</td>\n",
       "      <td>0.000000</td>\n",
       "      <td>1.000000</td>\n",
       "      <td>32.000000</td>\n",
       "    </tr>\n",
       "    <tr>\n",
       "      <th>area_per_bhk</th>\n",
       "      <td>2620.0</td>\n",
       "      <td>517.649752</td>\n",
       "      <td>147.914705</td>\n",
       "      <td>250.000000</td>\n",
       "      <td>427.625</td>\n",
       "      <td>499.583333</td>\n",
       "      <td>579.125000</td>\n",
       "      <td>1675.000000</td>\n",
       "    </tr>\n",
       "    <tr>\n",
       "      <th>price_per_sqft</th>\n",
       "      <td>2620.0</td>\n",
       "      <td>6387.418466</td>\n",
       "      <td>3409.167048</td>\n",
       "      <td>1743.119266</td>\n",
       "      <td>4600.000</td>\n",
       "      <td>5417.177914</td>\n",
       "      <td>6645.812201</td>\n",
       "      <td>26086.956522</td>\n",
       "    </tr>\n",
       "  </tbody>\n",
       "</table>\n",
       "</div>"
      ],
      "text/plain": [
       "                 count         mean          std          min       25%  \\\n",
       "price           2620.0    93.834683   113.609349    12.830000    42.000   \n",
       "area            2620.0  1282.925191   692.566319   300.000000   877.000   \n",
       "bhk             2620.0     2.443893     0.811984     1.000000     2.000   \n",
       "bathroom        2620.0     2.419466     0.819299     1.000000     2.000   \n",
       "age             2620.0     0.894275     1.824666     0.000000     0.000   \n",
       "area_per_bhk    2620.0   517.649752   147.914705   250.000000   427.625   \n",
       "price_per_sqft  2620.0  6387.418466  3409.167048  1743.119266  4600.000   \n",
       "\n",
       "                        50%          75%           max  \n",
       "price             61.735000    90.000000   1422.000000  \n",
       "area            1091.500000  1471.250000   6700.000000  \n",
       "bhk                2.000000     3.000000      8.000000  \n",
       "bathroom           2.000000     3.000000      7.000000  \n",
       "age                0.000000     1.000000     32.000000  \n",
       "area_per_bhk     499.583333   579.125000   1675.000000  \n",
       "price_per_sqft  5417.177914  6645.812201  26086.956522  "
      ]
     },
     "execution_count": 112,
     "metadata": {},
     "output_type": "execute_result"
    }
   ],
   "source": [
    "df.describe().T"
   ]
  },
  {
   "cell_type": "code",
   "execution_count": 121,
   "metadata": {},
   "outputs": [],
   "source": [
    "# make a copy of df as df_main\n",
    "df_main = df.copy()"
   ]
  },
  {
   "cell_type": "code",
   "execution_count": 122,
   "metadata": {},
   "outputs": [],
   "source": [
    "# get the upper and lower limits to remove the outliers\n",
    "apb_IQR = df['area_per_bhk'].quantile(0.75) - df['area_per_bhk'].quantile(0.25)\n",
    "pps_IQR = df['price_per_sqft'].quantile(0.75) - df['price_per_sqft'].quantile(0.25)\n",
    "lower_apb_limit = df['area_per_bhk'].quantile(0.25) - 1.5*apb_IQR\n",
    "upper_apb_limit = df['area_per_bhk'].quantile(0.75) + 1.5*apb_IQR\n",
    "lower_pps_limit = df['price_per_sqft'].quantile(0.25) - 1.5*pps_IQR\n",
    "upper_pps_limit = df['price_per_sqft'].quantile(0.75) + 1.5*pps_IQR"
   ]
  },
  {
   "cell_type": "code",
   "execution_count": 123,
   "metadata": {},
   "outputs": [
    {
     "data": {
      "text/plain": [
       "(200.375, 806.375, 1531.2816985931831, 9714.530502344696)"
      ]
     },
     "execution_count": 123,
     "metadata": {},
     "output_type": "execute_result"
    }
   ],
   "source": [
    "lower_apb_limit, upper_apb_limit, lower_pps_limit, upper_pps_limit"
   ]
  },
  {
   "cell_type": "code",
   "execution_count": 136,
   "metadata": {},
   "outputs": [
    {
     "data": {
      "text/html": [
       "<div>\n",
       "<style scoped>\n",
       "    .dataframe tbody tr th:only-of-type {\n",
       "        vertical-align: middle;\n",
       "    }\n",
       "\n",
       "    .dataframe tbody tr th {\n",
       "        vertical-align: top;\n",
       "    }\n",
       "\n",
       "    .dataframe thead th {\n",
       "        text-align: right;\n",
       "    }\n",
       "</style>\n",
       "<table border=\"1\" class=\"dataframe\">\n",
       "  <thead>\n",
       "    <tr style=\"text-align: right;\">\n",
       "      <th></th>\n",
       "      <th>price</th>\n",
       "      <th>area</th>\n",
       "      <th>status</th>\n",
       "      <th>bhk</th>\n",
       "      <th>bathroom</th>\n",
       "      <th>age</th>\n",
       "      <th>location</th>\n",
       "      <th>builder</th>\n",
       "      <th>area_per_bhk</th>\n",
       "      <th>price_per_sqft</th>\n",
       "    </tr>\n",
       "  </thead>\n",
       "  <tbody>\n",
       "    <tr>\n",
       "      <th>11</th>\n",
       "      <td>240.0</td>\n",
       "      <td>1500</td>\n",
       "      <td>Ready to move</td>\n",
       "      <td>3</td>\n",
       "      <td>3.0</td>\n",
       "      <td>1.0</td>\n",
       "      <td>Anna Nagar</td>\n",
       "      <td>Pushkar Properties Pvt Ltd</td>\n",
       "      <td>500.000000</td>\n",
       "      <td>16000.000000</td>\n",
       "    </tr>\n",
       "    <tr>\n",
       "      <th>12</th>\n",
       "      <td>407.0</td>\n",
       "      <td>2200</td>\n",
       "      <td>Under Construction</td>\n",
       "      <td>3</td>\n",
       "      <td>3.0</td>\n",
       "      <td>0.0</td>\n",
       "      <td>Gopalapuram</td>\n",
       "      <td>Pushkar Properties Pvt Ltd</td>\n",
       "      <td>733.333333</td>\n",
       "      <td>18500.000000</td>\n",
       "    </tr>\n",
       "    <tr>\n",
       "      <th>17</th>\n",
       "      <td>224.0</td>\n",
       "      <td>1450</td>\n",
       "      <td>Under Construction</td>\n",
       "      <td>3</td>\n",
       "      <td>3.0</td>\n",
       "      <td>0.0</td>\n",
       "      <td>Anna Nagar</td>\n",
       "      <td>Kamalam Builder Pvt Ltd</td>\n",
       "      <td>483.333333</td>\n",
       "      <td>15448.275862</td>\n",
       "    </tr>\n",
       "    <tr>\n",
       "      <th>21</th>\n",
       "      <td>455.0</td>\n",
       "      <td>2601</td>\n",
       "      <td>Under Construction</td>\n",
       "      <td>4</td>\n",
       "      <td>4.0</td>\n",
       "      <td>0.0</td>\n",
       "      <td>T Nagar</td>\n",
       "      <td>Lifestyle Housing</td>\n",
       "      <td>650.250000</td>\n",
       "      <td>17493.271819</td>\n",
       "    </tr>\n",
       "    <tr>\n",
       "      <th>22</th>\n",
       "      <td>391.0</td>\n",
       "      <td>2475</td>\n",
       "      <td>Under Construction</td>\n",
       "      <td>4</td>\n",
       "      <td>4.0</td>\n",
       "      <td>0.0</td>\n",
       "      <td>Guindy</td>\n",
       "      <td>Puravankara Limited</td>\n",
       "      <td>618.750000</td>\n",
       "      <td>15797.979798</td>\n",
       "    </tr>\n",
       "    <tr>\n",
       "      <th>...</th>\n",
       "      <td>...</td>\n",
       "      <td>...</td>\n",
       "      <td>...</td>\n",
       "      <td>...</td>\n",
       "      <td>...</td>\n",
       "      <td>...</td>\n",
       "      <td>...</td>\n",
       "      <td>...</td>\n",
       "      <td>...</td>\n",
       "      <td>...</td>\n",
       "    </tr>\n",
       "    <tr>\n",
       "      <th>2575</th>\n",
       "      <td>215.0</td>\n",
       "      <td>1930</td>\n",
       "      <td>Under Construction</td>\n",
       "      <td>3</td>\n",
       "      <td>3.0</td>\n",
       "      <td>0.0</td>\n",
       "      <td>Perungudi</td>\n",
       "      <td>24K Realtors</td>\n",
       "      <td>643.333333</td>\n",
       "      <td>11139.896373</td>\n",
       "    </tr>\n",
       "    <tr>\n",
       "      <th>2577</th>\n",
       "      <td>169.0</td>\n",
       "      <td>1610</td>\n",
       "      <td>Under Construction</td>\n",
       "      <td>3</td>\n",
       "      <td>3.0</td>\n",
       "      <td>0.0</td>\n",
       "      <td>Kodambakkam</td>\n",
       "      <td>Luxclusive Homes</td>\n",
       "      <td>536.666667</td>\n",
       "      <td>10496.894410</td>\n",
       "    </tr>\n",
       "    <tr>\n",
       "      <th>2578</th>\n",
       "      <td>100.0</td>\n",
       "      <td>956</td>\n",
       "      <td>Under Construction</td>\n",
       "      <td>2</td>\n",
       "      <td>2.0</td>\n",
       "      <td>0.0</td>\n",
       "      <td>Kodambakkam</td>\n",
       "      <td>Luxclusive Homes</td>\n",
       "      <td>478.000000</td>\n",
       "      <td>10460.251046</td>\n",
       "    </tr>\n",
       "    <tr>\n",
       "      <th>2607</th>\n",
       "      <td>340.0</td>\n",
       "      <td>2030</td>\n",
       "      <td>Under Construction</td>\n",
       "      <td>4</td>\n",
       "      <td>3.0</td>\n",
       "      <td>0.0</td>\n",
       "      <td>T Nagar</td>\n",
       "      <td>HomeFirst</td>\n",
       "      <td>507.500000</td>\n",
       "      <td>16748.768473</td>\n",
       "    </tr>\n",
       "    <tr>\n",
       "      <th>2608</th>\n",
       "      <td>219.0</td>\n",
       "      <td>1310</td>\n",
       "      <td>Under Construction</td>\n",
       "      <td>3</td>\n",
       "      <td>3.0</td>\n",
       "      <td>0.0</td>\n",
       "      <td>T Nagar</td>\n",
       "      <td>HomeFirst</td>\n",
       "      <td>436.666667</td>\n",
       "      <td>16717.557252</td>\n",
       "    </tr>\n",
       "  </tbody>\n",
       "</table>\n",
       "<p>309 rows × 10 columns</p>\n",
       "</div>"
      ],
      "text/plain": [
       "      price  area              status  bhk  bathroom  age     location  \\\n",
       "11    240.0  1500       Ready to move    3       3.0  1.0   Anna Nagar   \n",
       "12    407.0  2200  Under Construction    3       3.0  0.0  Gopalapuram   \n",
       "17    224.0  1450  Under Construction    3       3.0  0.0   Anna Nagar   \n",
       "21    455.0  2601  Under Construction    4       4.0  0.0      T Nagar   \n",
       "22    391.0  2475  Under Construction    4       4.0  0.0       Guindy   \n",
       "...     ...   ...                 ...  ...       ...  ...          ...   \n",
       "2575  215.0  1930  Under Construction    3       3.0  0.0    Perungudi   \n",
       "2577  169.0  1610  Under Construction    3       3.0  0.0  Kodambakkam   \n",
       "2578  100.0   956  Under Construction    2       2.0  0.0  Kodambakkam   \n",
       "2607  340.0  2030  Under Construction    4       3.0  0.0      T Nagar   \n",
       "2608  219.0  1310  Under Construction    3       3.0  0.0      T Nagar   \n",
       "\n",
       "                         builder  area_per_bhk  price_per_sqft  \n",
       "11    Pushkar Properties Pvt Ltd    500.000000    16000.000000  \n",
       "12    Pushkar Properties Pvt Ltd    733.333333    18500.000000  \n",
       "17       Kamalam Builder Pvt Ltd    483.333333    15448.275862  \n",
       "21             Lifestyle Housing    650.250000    17493.271819  \n",
       "22           Puravankara Limited    618.750000    15797.979798  \n",
       "...                          ...           ...             ...  \n",
       "2575                24K Realtors    643.333333    11139.896373  \n",
       "2577            Luxclusive Homes    536.666667    10496.894410  \n",
       "2578            Luxclusive Homes    478.000000    10460.251046  \n",
       "2607                   HomeFirst    507.500000    16748.768473  \n",
       "2608                   HomeFirst    436.666667    16717.557252  \n",
       "\n",
       "[309 rows x 10 columns]"
      ]
     },
     "execution_count": 136,
     "metadata": {},
     "output_type": "execute_result"
    }
   ],
   "source": [
    "df[(df['price_per_sqft'] < lower_pps_limit) | (df['price_per_sqft'] > upper_pps_limit)]"
   ]
  },
  {
   "cell_type": "code",
   "execution_count": 137,
   "metadata": {},
   "outputs": [
    {
     "data": {
      "text/html": [
       "<div>\n",
       "<style scoped>\n",
       "    .dataframe tbody tr th:only-of-type {\n",
       "        vertical-align: middle;\n",
       "    }\n",
       "\n",
       "    .dataframe tbody tr th {\n",
       "        vertical-align: top;\n",
       "    }\n",
       "\n",
       "    .dataframe thead th {\n",
       "        text-align: right;\n",
       "    }\n",
       "</style>\n",
       "<table border=\"1\" class=\"dataframe\">\n",
       "  <thead>\n",
       "    <tr style=\"text-align: right;\">\n",
       "      <th></th>\n",
       "      <th>price</th>\n",
       "      <th>area</th>\n",
       "      <th>status</th>\n",
       "      <th>bhk</th>\n",
       "      <th>bathroom</th>\n",
       "      <th>age</th>\n",
       "      <th>location</th>\n",
       "      <th>builder</th>\n",
       "      <th>area_per_bhk</th>\n",
       "      <th>price_per_sqft</th>\n",
       "    </tr>\n",
       "  </thead>\n",
       "  <tbody>\n",
       "    <tr>\n",
       "      <th>36</th>\n",
       "      <td>330.0</td>\n",
       "      <td>3670</td>\n",
       "      <td>Ready to move</td>\n",
       "      <td>3</td>\n",
       "      <td>3.0</td>\n",
       "      <td>3.0</td>\n",
       "      <td>Kanathur Reddikuppam</td>\n",
       "      <td>Mayances Construction and Engineering Services</td>\n",
       "      <td>1223.333333</td>\n",
       "      <td>8991.825613</td>\n",
       "    </tr>\n",
       "    <tr>\n",
       "      <th>60</th>\n",
       "      <td>658.0</td>\n",
       "      <td>6103</td>\n",
       "      <td>Ready to move</td>\n",
       "      <td>4</td>\n",
       "      <td>4.0</td>\n",
       "      <td>5.0</td>\n",
       "      <td>Sholinganallur</td>\n",
       "      <td>Prestige Estates Projects Ltd</td>\n",
       "      <td>1525.750000</td>\n",
       "      <td>10781.582828</td>\n",
       "    </tr>\n",
       "    <tr>\n",
       "      <th>81</th>\n",
       "      <td>644.0</td>\n",
       "      <td>3681</td>\n",
       "      <td>Under Construction</td>\n",
       "      <td>4</td>\n",
       "      <td>4.0</td>\n",
       "      <td>0.0</td>\n",
       "      <td>T Nagar</td>\n",
       "      <td>Lifestyle Housing</td>\n",
       "      <td>920.250000</td>\n",
       "      <td>17495.245857</td>\n",
       "    </tr>\n",
       "    <tr>\n",
       "      <th>96</th>\n",
       "      <td>440.0</td>\n",
       "      <td>4896</td>\n",
       "      <td>Ready to move</td>\n",
       "      <td>4</td>\n",
       "      <td>4.0</td>\n",
       "      <td>3.0</td>\n",
       "      <td>Kanathur Reddikuppam</td>\n",
       "      <td>Mayances Construction and Engineering Services</td>\n",
       "      <td>1224.000000</td>\n",
       "      <td>8986.928105</td>\n",
       "    </tr>\n",
       "    <tr>\n",
       "      <th>135</th>\n",
       "      <td>327.0</td>\n",
       "      <td>4450</td>\n",
       "      <td>Under Construction</td>\n",
       "      <td>5</td>\n",
       "      <td>6.0</td>\n",
       "      <td>0.0</td>\n",
       "      <td>Mogappair</td>\n",
       "      <td>Casagrand Builder Private Limited</td>\n",
       "      <td>890.000000</td>\n",
       "      <td>7348.314607</td>\n",
       "    </tr>\n",
       "    <tr>\n",
       "      <th>...</th>\n",
       "      <td>...</td>\n",
       "      <td>...</td>\n",
       "      <td>...</td>\n",
       "      <td>...</td>\n",
       "      <td>...</td>\n",
       "      <td>...</td>\n",
       "      <td>...</td>\n",
       "      <td>...</td>\n",
       "      <td>...</td>\n",
       "      <td>...</td>\n",
       "    </tr>\n",
       "    <tr>\n",
       "      <th>2238</th>\n",
       "      <td>48.0</td>\n",
       "      <td>1126</td>\n",
       "      <td>Ready to move</td>\n",
       "      <td>1</td>\n",
       "      <td>2.0</td>\n",
       "      <td>3.0</td>\n",
       "      <td>Ottiyabakkam</td>\n",
       "      <td>Elite nisha</td>\n",
       "      <td>1126.000000</td>\n",
       "      <td>4262.877442</td>\n",
       "    </tr>\n",
       "    <tr>\n",
       "      <th>2363</th>\n",
       "      <td>330.0</td>\n",
       "      <td>4724</td>\n",
       "      <td>Ready to move</td>\n",
       "      <td>4</td>\n",
       "      <td>4.0</td>\n",
       "      <td>0.0</td>\n",
       "      <td>Sholinganallur</td>\n",
       "      <td>ARB HOMES</td>\n",
       "      <td>1181.000000</td>\n",
       "      <td>6985.605419</td>\n",
       "    </tr>\n",
       "    <tr>\n",
       "      <th>2429</th>\n",
       "      <td>405.0</td>\n",
       "      <td>3654</td>\n",
       "      <td>Under Construction</td>\n",
       "      <td>4</td>\n",
       "      <td>4.0</td>\n",
       "      <td>0.0</td>\n",
       "      <td>Perungudi</td>\n",
       "      <td>Luxclusive Homes</td>\n",
       "      <td>913.500000</td>\n",
       "      <td>11083.743842</td>\n",
       "    </tr>\n",
       "    <tr>\n",
       "      <th>2431</th>\n",
       "      <td>415.0</td>\n",
       "      <td>3746</td>\n",
       "      <td>Under Construction</td>\n",
       "      <td>4</td>\n",
       "      <td>4.0</td>\n",
       "      <td>0.0</td>\n",
       "      <td>Perungudi</td>\n",
       "      <td>Luxclusive Homes</td>\n",
       "      <td>936.500000</td>\n",
       "      <td>11078.483716</td>\n",
       "    </tr>\n",
       "    <tr>\n",
       "      <th>2467</th>\n",
       "      <td>450.0</td>\n",
       "      <td>3000</td>\n",
       "      <td>Ready to move</td>\n",
       "      <td>3</td>\n",
       "      <td>4.0</td>\n",
       "      <td>9.0</td>\n",
       "      <td>Velachery</td>\n",
       "      <td>Chennai Gated Community</td>\n",
       "      <td>1000.000000</td>\n",
       "      <td>15000.000000</td>\n",
       "    </tr>\n",
       "  </tbody>\n",
       "</table>\n",
       "<p>92 rows × 10 columns</p>\n",
       "</div>"
      ],
      "text/plain": [
       "      price  area              status  bhk  bathroom  age  \\\n",
       "36    330.0  3670       Ready to move    3       3.0  3.0   \n",
       "60    658.0  6103       Ready to move    4       4.0  5.0   \n",
       "81    644.0  3681  Under Construction    4       4.0  0.0   \n",
       "96    440.0  4896       Ready to move    4       4.0  3.0   \n",
       "135   327.0  4450  Under Construction    5       6.0  0.0   \n",
       "...     ...   ...                 ...  ...       ...  ...   \n",
       "2238   48.0  1126       Ready to move    1       2.0  3.0   \n",
       "2363  330.0  4724       Ready to move    4       4.0  0.0   \n",
       "2429  405.0  3654  Under Construction    4       4.0  0.0   \n",
       "2431  415.0  3746  Under Construction    4       4.0  0.0   \n",
       "2467  450.0  3000       Ready to move    3       4.0  9.0   \n",
       "\n",
       "                  location                                         builder  \\\n",
       "36    Kanathur Reddikuppam  Mayances Construction and Engineering Services   \n",
       "60          Sholinganallur                   Prestige Estates Projects Ltd   \n",
       "81                 T Nagar                               Lifestyle Housing   \n",
       "96    Kanathur Reddikuppam  Mayances Construction and Engineering Services   \n",
       "135              Mogappair               Casagrand Builder Private Limited   \n",
       "...                    ...                                             ...   \n",
       "2238          Ottiyabakkam                                     Elite nisha   \n",
       "2363        Sholinganallur                                       ARB HOMES   \n",
       "2429             Perungudi                                Luxclusive Homes   \n",
       "2431             Perungudi                                Luxclusive Homes   \n",
       "2467             Velachery                         Chennai Gated Community   \n",
       "\n",
       "      area_per_bhk  price_per_sqft  \n",
       "36     1223.333333     8991.825613  \n",
       "60     1525.750000    10781.582828  \n",
       "81      920.250000    17495.245857  \n",
       "96     1224.000000     8986.928105  \n",
       "135     890.000000     7348.314607  \n",
       "...            ...             ...  \n",
       "2238   1126.000000     4262.877442  \n",
       "2363   1181.000000     6985.605419  \n",
       "2429    913.500000    11083.743842  \n",
       "2431    936.500000    11078.483716  \n",
       "2467   1000.000000    15000.000000  \n",
       "\n",
       "[92 rows x 10 columns]"
      ]
     },
     "execution_count": 137,
     "metadata": {},
     "output_type": "execute_result"
    }
   ],
   "source": [
    "df[(df['area_per_bhk'] < lower_apb_limit) | (df['area_per_bhk'] > upper_apb_limit)]"
   ]
  },
  {
   "cell_type": "code",
   "execution_count": null,
   "metadata": {},
   "outputs": [],
   "source": [
    "# lets try 3rd std to remove "
   ]
  },
  {
   "cell_type": "code",
   "execution_count": 135,
   "metadata": {},
   "outputs": [
    {
     "data": {
      "text/html": [
       "<div>\n",
       "<style scoped>\n",
       "    .dataframe tbody tr th:only-of-type {\n",
       "        vertical-align: middle;\n",
       "    }\n",
       "\n",
       "    .dataframe tbody tr th {\n",
       "        vertical-align: top;\n",
       "    }\n",
       "\n",
       "    .dataframe thead th {\n",
       "        text-align: right;\n",
       "    }\n",
       "</style>\n",
       "<table border=\"1\" class=\"dataframe\">\n",
       "  <thead>\n",
       "    <tr style=\"text-align: right;\">\n",
       "      <th></th>\n",
       "      <th>area</th>\n",
       "      <th>price</th>\n",
       "      <th>bhk</th>\n",
       "    </tr>\n",
       "  </thead>\n",
       "  <tbody>\n",
       "    <tr>\n",
       "      <th>4</th>\n",
       "      <td>588</td>\n",
       "      <td>42.28</td>\n",
       "      <td>2</td>\n",
       "    </tr>\n",
       "    <tr>\n",
       "      <th>43</th>\n",
       "      <td>588</td>\n",
       "      <td>42.28</td>\n",
       "      <td>2</td>\n",
       "    </tr>\n",
       "    <tr>\n",
       "      <th>54</th>\n",
       "      <td>528</td>\n",
       "      <td>29.62</td>\n",
       "      <td>2</td>\n",
       "    </tr>\n",
       "    <tr>\n",
       "      <th>206</th>\n",
       "      <td>594</td>\n",
       "      <td>35.34</td>\n",
       "      <td>2</td>\n",
       "    </tr>\n",
       "    <tr>\n",
       "      <th>208</th>\n",
       "      <td>591</td>\n",
       "      <td>35.16</td>\n",
       "      <td>2</td>\n",
       "    </tr>\n",
       "    <tr>\n",
       "      <th>209</th>\n",
       "      <td>598</td>\n",
       "      <td>35.58</td>\n",
       "      <td>2</td>\n",
       "    </tr>\n",
       "    <tr>\n",
       "      <th>302</th>\n",
       "      <td>561</td>\n",
       "      <td>28.00</td>\n",
       "      <td>2</td>\n",
       "    </tr>\n",
       "    <tr>\n",
       "      <th>304</th>\n",
       "      <td>576</td>\n",
       "      <td>30.00</td>\n",
       "      <td>2</td>\n",
       "    </tr>\n",
       "    <tr>\n",
       "      <th>567</th>\n",
       "      <td>588</td>\n",
       "      <td>42.28</td>\n",
       "      <td>2</td>\n",
       "    </tr>\n",
       "    <tr>\n",
       "      <th>570</th>\n",
       "      <td>588</td>\n",
       "      <td>42.28</td>\n",
       "      <td>2</td>\n",
       "    </tr>\n",
       "    <tr>\n",
       "      <th>571</th>\n",
       "      <td>588</td>\n",
       "      <td>42.28</td>\n",
       "      <td>2</td>\n",
       "    </tr>\n",
       "    <tr>\n",
       "      <th>1174</th>\n",
       "      <td>540</td>\n",
       "      <td>15.00</td>\n",
       "      <td>2</td>\n",
       "    </tr>\n",
       "    <tr>\n",
       "      <th>1183</th>\n",
       "      <td>506</td>\n",
       "      <td>29.00</td>\n",
       "      <td>2</td>\n",
       "    </tr>\n",
       "    <tr>\n",
       "      <th>1375</th>\n",
       "      <td>550</td>\n",
       "      <td>43.00</td>\n",
       "      <td>2</td>\n",
       "    </tr>\n",
       "    <tr>\n",
       "      <th>1879</th>\n",
       "      <td>582</td>\n",
       "      <td>25.00</td>\n",
       "      <td>2</td>\n",
       "    </tr>\n",
       "    <tr>\n",
       "      <th>2033</th>\n",
       "      <td>580</td>\n",
       "      <td>33.00</td>\n",
       "      <td>2</td>\n",
       "    </tr>\n",
       "    <tr>\n",
       "      <th>2376</th>\n",
       "      <td>591</td>\n",
       "      <td>42.00</td>\n",
       "      <td>2</td>\n",
       "    </tr>\n",
       "    <tr>\n",
       "      <th>2397</th>\n",
       "      <td>588</td>\n",
       "      <td>40.00</td>\n",
       "      <td>2</td>\n",
       "    </tr>\n",
       "    <tr>\n",
       "      <th>2405</th>\n",
       "      <td>571</td>\n",
       "      <td>26.00</td>\n",
       "      <td>2</td>\n",
       "    </tr>\n",
       "    <tr>\n",
       "      <th>2519</th>\n",
       "      <td>500</td>\n",
       "      <td>23.00</td>\n",
       "      <td>2</td>\n",
       "    </tr>\n",
       "    <tr>\n",
       "      <th>2526</th>\n",
       "      <td>500</td>\n",
       "      <td>23.00</td>\n",
       "      <td>2</td>\n",
       "    </tr>\n",
       "    <tr>\n",
       "      <th>2528</th>\n",
       "      <td>500</td>\n",
       "      <td>22.00</td>\n",
       "      <td>2</td>\n",
       "    </tr>\n",
       "  </tbody>\n",
       "</table>\n",
       "</div>"
      ],
      "text/plain": [
       "      area  price  bhk\n",
       "4      588  42.28    2\n",
       "43     588  42.28    2\n",
       "54     528  29.62    2\n",
       "206    594  35.34    2\n",
       "208    591  35.16    2\n",
       "209    598  35.58    2\n",
       "302    561  28.00    2\n",
       "304    576  30.00    2\n",
       "567    588  42.28    2\n",
       "570    588  42.28    2\n",
       "571    588  42.28    2\n",
       "1174   540  15.00    2\n",
       "1183   506  29.00    2\n",
       "1375   550  43.00    2\n",
       "1879   582  25.00    2\n",
       "2033   580  33.00    2\n",
       "2376   591  42.00    2\n",
       "2397   588  40.00    2\n",
       "2405   571  26.00    2\n",
       "2519   500  23.00    2\n",
       "2526   500  23.00    2\n",
       "2528   500  22.00    2"
      ]
     },
     "execution_count": 135,
     "metadata": {},
     "output_type": "execute_result"
    }
   ],
   "source": [
    "# Let's have a look at high area and price records before removing outliers\n",
    "#df[df.area > 2000][['price','area']]\n",
    "df['area'].describe()\n",
    "df[(df.bhk == 2) & (df.area < 600)][['area','price','bhk']]"
   ]
  },
  {
   "cell_type": "code",
   "execution_count": 37,
   "metadata": {},
   "outputs": [],
   "source": [
    "# outlier detection\n",
    "std_price = df.price.std()\n",
    "mean_price = df.price.mean()"
   ]
  },
  {
   "cell_type": "code",
   "execution_count": 39,
   "metadata": {},
   "outputs": [
    {
     "data": {
      "text/plain": [
       "count    2620.000000\n",
       "mean       93.834683\n",
       "std       113.609349\n",
       "min        12.830000\n",
       "25%        42.000000\n",
       "50%        61.735000\n",
       "75%        90.000000\n",
       "max      1422.000000\n",
       "Name: price, dtype: float64"
      ]
     },
     "execution_count": 39,
     "metadata": {},
     "output_type": "execute_result"
    }
   ],
   "source": [
    "df.price.describe()"
   ]
  },
  {
   "cell_type": "code",
   "execution_count": 43,
   "metadata": {},
   "outputs": [
    {
     "data": {
      "text/plain": [
       "61.735"
      ]
     },
     "execution_count": 43,
     "metadata": {},
     "output_type": "execute_result"
    }
   ],
   "source": [
    "#get 3rd min and max std \n",
    "#min_std_val = \n",
    "df.price.quantile(1-0.997)\n",
    "df.price.quantile()"
   ]
  },
  {
   "cell_type": "markdown",
   "metadata": {},
   "source": [
    "## Feature Engg"
   ]
  },
  {
   "cell_type": "code",
   "execution_count": 142,
   "metadata": {},
   "outputs": [
    {
     "data": {
      "text/plain": [
       "seller                               484\n",
       "MC Foundation                        232\n",
       "Appaswamy Real Estate                109\n",
       "Propsource Realty Private Limited     79\n",
       "Radiance Realty Developers            62\n",
       "                                    ... \n",
       "Kaushik associates                     1\n",
       "MAXWORTH PROPERTIES                    1\n",
       "Jayakanthan                            1\n",
       "Value reality                          1\n",
       "S Suresh Kumar                         1\n",
       "Name: builder, Length: 135, dtype: int64"
      ]
     },
     "execution_count": 142,
     "metadata": {},
     "output_type": "execute_result"
    }
   ],
   "source": [
    "# let's handle categorical feature\n",
    "#df['builder'].unique()\n",
    "builder_stats = df['builder'].value_counts(ascending=False)\n",
    "builder_stats"
   ]
  },
  {
   "cell_type": "code",
   "execution_count": 143,
   "metadata": {},
   "outputs": [
    {
     "data": {
      "text/plain": [
       "Prasanna               10\n",
       "EK Realtors            10\n",
       "SP Homes Pvt Ltd       10\n",
       "BricksBurg              9\n",
       "Shiva                   9\n",
       "                       ..\n",
       "Kaushik associates      1\n",
       "MAXWORTH PROPERTIES     1\n",
       "Jayakanthan             1\n",
       "Value reality           1\n",
       "S Suresh Kumar          1\n",
       "Name: builder, Length: 79, dtype: int64"
      ]
     },
     "execution_count": 143,
     "metadata": {},
     "output_type": "execute_result"
    }
   ],
   "source": [
    "builder_stats_less_then_10 = builder_stats[builder_stats <=10]\n",
    "builder_stats_less_then_10"
   ]
  },
  {
   "cell_type": "code",
   "execution_count": 146,
   "metadata": {},
   "outputs": [],
   "source": [
    "df['builder'] = df['builder'].apply(lambda x: 'other' if x in builder_stats_less_then_10 else x)"
   ]
  },
  {
   "cell_type": "code",
   "execution_count": 147,
   "metadata": {},
   "outputs": [
    {
     "data": {
      "text/plain": [
       "0                              MP Developers\n",
       "1                              DAC Promoters\n",
       "2          Casagrand Builder Private Limited\n",
       "3                                      other\n",
       "4       Radiance Realty Developers India Ltd\n",
       "                        ...                 \n",
       "2615                Velan Housing Properties\n",
       "2616                Velan Housing Properties\n",
       "2617                Velan Housing Properties\n",
       "2618                Velan Housing Properties\n",
       "2619                Velan Housing Properties\n",
       "Name: builder, Length: 2620, dtype: object"
      ]
     },
     "execution_count": 147,
     "metadata": {},
     "output_type": "execute_result"
    }
   ],
   "source": [
    "df['builder']"
   ]
  },
  {
   "cell_type": "code",
   "execution_count": 148,
   "metadata": {},
   "outputs": [
    {
     "data": {
      "text/plain": [
       "Veppampattu                       149\n",
       "Pammal                            139\n",
       "Medavakkam                        111\n",
       "Sholinganallur                     99\n",
       "Perungudi                          88\n",
       "                                 ... \n",
       "Oragadam Village Ambattur Talu      1\n",
       "Chengalpattu                        1\n",
       "Kumananchavadi                      1\n",
       "Neelankarai                         1\n",
       "Kumaran Nagar                       1\n",
       "Name: location, Length: 178, dtype: int64"
      ]
     },
     "execution_count": 148,
     "metadata": {},
     "output_type": "execute_result"
    }
   ],
   "source": [
    "#df['location'].unique()\n",
    "location_stats = df['location'].value_counts(ascending=False)\n",
    "location_stats"
   ]
  },
  {
   "cell_type": "code",
   "execution_count": 149,
   "metadata": {},
   "outputs": [
    {
     "data": {
      "text/plain": [
       "Ambattur INDUSTRIAL ESTATE        10\n",
       "Urapakkam                         10\n",
       "Thandalam                         10\n",
       "Keelkattalai                       9\n",
       "Saidapet                           9\n",
       "                                  ..\n",
       "Oragadam Village Ambattur Talu     1\n",
       "Chengalpattu                       1\n",
       "Kumananchavadi                     1\n",
       "Neelankarai                        1\n",
       "Kumaran Nagar                      1\n",
       "Name: location, Length: 119, dtype: int64"
      ]
     },
     "execution_count": 149,
     "metadata": {},
     "output_type": "execute_result"
    }
   ],
   "source": [
    "location_stats_less_then_10 = location_stats[location_stats <= 10]\n",
    "location_stats_less_then_10"
   ]
  },
  {
   "cell_type": "code",
   "execution_count": 151,
   "metadata": {},
   "outputs": [],
   "source": [
    "df['location'] = df['location'].apply(lambda x: 'other' if x in location_stats_less_then_10 else x)"
   ]
  },
  {
   "cell_type": "code",
   "execution_count": 141,
   "metadata": {},
   "outputs": [
    {
     "data": {
      "text/plain": [
       "array(['Ready to move', 'Under Construction'], dtype=object)"
      ]
     },
     "execution_count": 141,
     "metadata": {},
     "output_type": "execute_result"
    }
   ],
   "source": [
    "df['status'].unique()"
   ]
  },
  {
   "cell_type": "code",
   "execution_count": 155,
   "metadata": {},
   "outputs": [],
   "source": [
    "#drop additional columns\n",
    "df_new = df.drop(['area_per_bhk','price_per_sqft'],axis=1)"
   ]
  },
  {
   "cell_type": "code",
   "execution_count": 158,
   "metadata": {},
   "outputs": [],
   "source": [
    "df_final = pd.get_dummies(df_new,columns=['status','location','builder'])"
   ]
  },
  {
   "cell_type": "code",
   "execution_count": 162,
   "metadata": {},
   "outputs": [],
   "source": [
    "Y = df_final['price']\n",
    "X = df_final.drop(['price'],axis=1)"
   ]
  },
  {
   "cell_type": "code",
   "execution_count": 164,
   "metadata": {},
   "outputs": [
    {
     "data": {
      "text/plain": [
       "0        37.49\n",
       "1        93.54\n",
       "2       151.00\n",
       "3        49.00\n",
       "4        42.28\n",
       "         ...  \n",
       "2615     27.50\n",
       "2616     27.50\n",
       "2617     30.00\n",
       "2618     31.50\n",
       "2619     34.00\n",
       "Name: price, Length: 2620, dtype: float64"
      ]
     },
     "execution_count": 164,
     "metadata": {},
     "output_type": "execute_result"
    }
   ],
   "source": [
    "Y"
   ]
  },
  {
   "cell_type": "code",
   "execution_count": 166,
   "metadata": {},
   "outputs": [],
   "source": [
    "X_train,X_test,y_train,y_test = train_test_split(X,Y,test_size=0.2,random_state=0)"
   ]
  },
  {
   "cell_type": "code",
   "execution_count": 169,
   "metadata": {},
   "outputs": [
    {
     "data": {
      "text/plain": [
       "((2096, 123), (524, 123))"
      ]
     },
     "execution_count": 169,
     "metadata": {},
     "output_type": "execute_result"
    }
   ],
   "source": [
    "X_train.shape,X_test.shape"
   ]
  },
  {
   "cell_type": "code",
   "execution_count": 170,
   "metadata": {},
   "outputs": [
    {
     "data": {
      "text/plain": [
       "((2096,), (524,))"
      ]
     },
     "execution_count": 170,
     "metadata": {},
     "output_type": "execute_result"
    }
   ],
   "source": [
    "y_train.shape,y_test.shape"
   ]
  },
  {
   "cell_type": "code",
   "execution_count": 171,
   "metadata": {},
   "outputs": [
    {
     "data": {
      "text/plain": [
       "LinearRegression()"
      ]
     },
     "execution_count": 171,
     "metadata": {},
     "output_type": "execute_result"
    }
   ],
   "source": [
    "lr = LinearRegression()\n",
    "lr.fit(X_train,y_train)"
   ]
  },
  {
   "cell_type": "code",
   "execution_count": 172,
   "metadata": {},
   "outputs": [],
   "source": [
    "y_pred = lr.predict(X_test)"
   ]
  },
  {
   "cell_type": "code",
   "execution_count": 174,
   "metadata": {},
   "outputs": [
    {
     "data": {
      "text/plain": [
       "0.8490767241118216"
      ]
     },
     "execution_count": 174,
     "metadata": {},
     "output_type": "execute_result"
    }
   ],
   "source": [
    "r2_score(y_test,y_pred)"
   ]
  },
  {
   "cell_type": "code",
   "execution_count": 175,
   "metadata": {},
   "outputs": [
    {
     "data": {
      "text/plain": [
       "38.34395521740229"
      ]
     },
     "execution_count": 175,
     "metadata": {},
     "output_type": "execute_result"
    }
   ],
   "source": [
    "math.sqrt(mean_squared_error(y_test,y_pred))"
   ]
  },
  {
   "cell_type": "code",
   "execution_count": 176,
   "metadata": {},
   "outputs": [],
   "source": [
    "# Let's try Decision tree regressor"
   ]
  },
  {
   "cell_type": "code",
   "execution_count": null,
   "metadata": {},
   "outputs": [],
   "source": []
  }
 ],
 "metadata": {
  "interpreter": {
   "hash": "de1439451bc18dc23a830a8116c5b44f0735bb2ec6b8bf6d1b4e2dbe8f6f685b"
  },
  "kernelspec": {
   "display_name": "Python 3.8.8 64-bit ('base': conda)",
   "language": "python",
   "name": "python3"
  },
  "language_info": {
   "codemirror_mode": {
    "name": "ipython",
    "version": 3
   },
   "file_extension": ".py",
   "mimetype": "text/x-python",
   "name": "python",
   "nbconvert_exporter": "python",
   "pygments_lexer": "ipython3",
   "version": "3.8.8"
  },
  "orig_nbformat": 4
 },
 "nbformat": 4,
 "nbformat_minor": 2
}
